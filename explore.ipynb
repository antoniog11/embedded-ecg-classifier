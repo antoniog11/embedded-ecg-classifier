{
 "cells": [
  {
   "cell_type": "code",
   "execution_count": 1,
   "metadata": {},
   "outputs": [],
   "source": [
    "import matplotlib.pyplot as plt\n",
    "import numpy as np\n",
    "import util"
   ]
  },
  {
   "cell_type": "code",
   "execution_count": 6,
   "metadata": {},
   "outputs": [],
   "source": [
    "N_PATIENTS = 48 \n",
    "SAMPLING_RATE = 360 # Hz\n",
    "\n",
    "ALL_BEAT_CLASSES = {\"N\": \"Normal beat\",\n",
    "                    \"L\": \"Left bundle branch block beat\",\n",
    "                    \"R\": \"Right bundle branch block beat\",\n",
    "                    \"A\": \"Atrial premature beat\",\n",
    "                    \"S\": \"Premature or ectopic supraventricular beat\",\n",
    "                    \"V\": \"Premature ventricular contraction\",\n",
    "                    \"e\": \"Atrial escape beat\", \n",
    "                    \"n\": \"Supraventricular escape beat\",\n",
    "                    \"E\": \"Ventricular escape beat\",\n",
    "                    \"Q\": \"Unclassifiable beat\"}\n",
    "\n",
    "classes = list(ALL_BEAT_CLASSES.keys())\n",
    "windowDuration = 0.88 # seconds\n",
    "windowWidthSamples = int(windowDuration * SAMPLING_RATE)\n",
    "\n",
    "X, y = util.generate_data(windowWidthSamples, classes, 1000000)\n",
    "#save_data(X, y)"
   ]
  },
  {
   "cell_type": "code",
   "execution_count": 8,
   "metadata": {},
   "outputs": [],
   "source": [
    "util.save_data(np.array(X), np.array(y))"
   ]
  },
  {
   "cell_type": "code",
   "execution_count": 9,
   "metadata": {},
   "outputs": [
    {
     "ename": "AttributeError",
     "evalue": "'list' object has no attribute 'shape'",
     "output_type": "error",
     "traceback": [
      "\u001b[0;31m---------------------------------------------------------------------------\u001b[0m",
      "\u001b[0;31mAttributeError\u001b[0m                            Traceback (most recent call last)",
      "\u001b[0;32m<ipython-input-9-bc5f1a0adac8>\u001b[0m in \u001b[0;36m<module>\u001b[0;34m\u001b[0m\n\u001b[0;32m----> 1\u001b[0;31m \u001b[0mX\u001b[0m\u001b[0;34m.\u001b[0m\u001b[0mshape\u001b[0m\u001b[0;34m\u001b[0m\u001b[0;34m\u001b[0m\u001b[0m\n\u001b[0m",
      "\u001b[0;31mAttributeError\u001b[0m: 'list' object has no attribute 'shape'"
     ]
    }
   ],
   "source": [
    "X = numpy.array(X)\n",
    "y = numpy.array(y)"
   ]
  },
  {
   "cell_type": "code",
   "execution_count": null,
   "metadata": {},
   "outputs": [],
   "source": []
  }
 ],
 "metadata": {
  "kernelspec": {
   "display_name": "ecg-env",
   "language": "python",
   "name": "python3"
  },
  "language_info": {
   "codemirror_mode": {
    "name": "ipython",
    "version": 3
   },
   "file_extension": ".py",
   "mimetype": "text/x-python",
   "name": "python",
   "nbconvert_exporter": "python",
   "pygments_lexer": "ipython3",
   "version": "3.7.16"
  },
  "orig_nbformat": 4,
  "vscode": {
   "interpreter": {
    "hash": "466abd8f7c63cc5e24382de05c4dc5c9d3834c73b1fe52c2d4f399135745281d"
   }
  }
 },
 "nbformat": 4,
 "nbformat_minor": 2
}
